{
  "nbformat": 4,
  "nbformat_minor": 0,
  "metadata": {
    "kernelspec": {
      "display_name": "Python 3",
      "language": "python",
      "name": "python3"
    },
    "language_info": {
      "codemirror_mode": {
        "name": "ipython",
        "version": 3
      },
      "file_extension": ".py",
      "mimetype": "text/x-python",
      "name": "python",
      "nbconvert_exporter": "python",
      "pygments_lexer": "ipython3",
      "version": "3.7.6"
    },
    "colab": {
      "name": "Titanic Kaggle.ipynb",
      "provenance": [],
      "collapsed_sections": [],
      "toc_visible": true,
      "include_colab_link": true
    }
  },
  "cells": [
    {
      "cell_type": "markdown",
      "metadata": {
        "id": "view-in-github",
        "colab_type": "text"
      },
      "source": [
        "<a href=\"https://colab.research.google.com/github/YanisNC/AI-things/blob/master/Titanic_Kaggle.ipynb\" target=\"_parent\"><img src=\"https://colab.research.google.com/assets/colab-badge.svg\" alt=\"Open In Colab\"/></a>"
      ]
    },
    {
      "cell_type": "markdown",
      "metadata": {
        "id": "G9OFEcM7fAj7",
        "colab_type": "text"
      },
      "source": [
        "####This is my approach of the Titanic classification problem.\n",
        "\n",
        "#####The best algorithm was Gradient Boosting Classifier with an **82.56%** accuracy."
      ]
    },
    {
      "cell_type": "markdown",
      "metadata": {
        "id": "R8PC3bI70E21",
        "colab_type": "text"
      },
      "source": [
        "# Import Libraries"
      ]
    },
    {
      "cell_type": "code",
      "metadata": {
        "id": "Ab2Ld1TY0E23",
        "colab_type": "code",
        "colab": {}
      },
      "source": [
        "import pandas as pd\n",
        "import seaborn as sns\n",
        "import matplotlib.pyplot as plt\n",
        "import numpy as np"
      ],
      "execution_count": 238,
      "outputs": []
    },
    {
      "cell_type": "markdown",
      "metadata": {
        "id": "Pq76XbYP0E28",
        "colab_type": "text"
      },
      "source": [
        "# Import Data"
      ]
    },
    {
      "cell_type": "code",
      "metadata": {
        "id": "gnIzjCi10E3D",
        "colab_type": "code",
        "colab": {}
      },
      "source": [
        "df_train = pd.read_csv('train.csv')\n",
        "df_test = pd.read_csv('test.csv')"
      ],
      "execution_count": 239,
      "outputs": []
    },
    {
      "cell_type": "code",
      "metadata": {
        "id": "rA8m5-PF0E3P",
        "colab_type": "code",
        "colab": {
          "base_uri": "https://localhost:8080/",
          "height": 204
        },
        "outputId": "f14b4857-fd9a-40d1-af94-d872c39eb6b3"
      },
      "source": [
        "df_train.head()"
      ],
      "execution_count": 240,
      "outputs": [
        {
          "output_type": "execute_result",
          "data": {
            "text/html": [
              "<div>\n",
              "<style scoped>\n",
              "    .dataframe tbody tr th:only-of-type {\n",
              "        vertical-align: middle;\n",
              "    }\n",
              "\n",
              "    .dataframe tbody tr th {\n",
              "        vertical-align: top;\n",
              "    }\n",
              "\n",
              "    .dataframe thead th {\n",
              "        text-align: right;\n",
              "    }\n",
              "</style>\n",
              "<table border=\"1\" class=\"dataframe\">\n",
              "  <thead>\n",
              "    <tr style=\"text-align: right;\">\n",
              "      <th></th>\n",
              "      <th>PassengerId</th>\n",
              "      <th>Survived</th>\n",
              "      <th>Pclass</th>\n",
              "      <th>Name</th>\n",
              "      <th>Sex</th>\n",
              "      <th>Age</th>\n",
              "      <th>SibSp</th>\n",
              "      <th>Parch</th>\n",
              "      <th>Ticket</th>\n",
              "      <th>Fare</th>\n",
              "      <th>Cabin</th>\n",
              "      <th>Embarked</th>\n",
              "    </tr>\n",
              "  </thead>\n",
              "  <tbody>\n",
              "    <tr>\n",
              "      <th>0</th>\n",
              "      <td>1</td>\n",
              "      <td>0</td>\n",
              "      <td>3</td>\n",
              "      <td>Braund, Mr. Owen Harris</td>\n",
              "      <td>male</td>\n",
              "      <td>22.0</td>\n",
              "      <td>1</td>\n",
              "      <td>0</td>\n",
              "      <td>A/5 21171</td>\n",
              "      <td>7.2500</td>\n",
              "      <td>NaN</td>\n",
              "      <td>S</td>\n",
              "    </tr>\n",
              "    <tr>\n",
              "      <th>1</th>\n",
              "      <td>2</td>\n",
              "      <td>1</td>\n",
              "      <td>1</td>\n",
              "      <td>Cumings, Mrs. John Bradley (Florence Briggs Th...</td>\n",
              "      <td>female</td>\n",
              "      <td>38.0</td>\n",
              "      <td>1</td>\n",
              "      <td>0</td>\n",
              "      <td>PC 17599</td>\n",
              "      <td>71.2833</td>\n",
              "      <td>C85</td>\n",
              "      <td>C</td>\n",
              "    </tr>\n",
              "    <tr>\n",
              "      <th>2</th>\n",
              "      <td>3</td>\n",
              "      <td>1</td>\n",
              "      <td>3</td>\n",
              "      <td>Heikkinen, Miss. Laina</td>\n",
              "      <td>female</td>\n",
              "      <td>26.0</td>\n",
              "      <td>0</td>\n",
              "      <td>0</td>\n",
              "      <td>STON/O2. 3101282</td>\n",
              "      <td>7.9250</td>\n",
              "      <td>NaN</td>\n",
              "      <td>S</td>\n",
              "    </tr>\n",
              "    <tr>\n",
              "      <th>3</th>\n",
              "      <td>4</td>\n",
              "      <td>1</td>\n",
              "      <td>1</td>\n",
              "      <td>Futrelle, Mrs. Jacques Heath (Lily May Peel)</td>\n",
              "      <td>female</td>\n",
              "      <td>35.0</td>\n",
              "      <td>1</td>\n",
              "      <td>0</td>\n",
              "      <td>113803</td>\n",
              "      <td>53.1000</td>\n",
              "      <td>C123</td>\n",
              "      <td>S</td>\n",
              "    </tr>\n",
              "    <tr>\n",
              "      <th>4</th>\n",
              "      <td>5</td>\n",
              "      <td>0</td>\n",
              "      <td>3</td>\n",
              "      <td>Allen, Mr. William Henry</td>\n",
              "      <td>male</td>\n",
              "      <td>35.0</td>\n",
              "      <td>0</td>\n",
              "      <td>0</td>\n",
              "      <td>373450</td>\n",
              "      <td>8.0500</td>\n",
              "      <td>NaN</td>\n",
              "      <td>S</td>\n",
              "    </tr>\n",
              "  </tbody>\n",
              "</table>\n",
              "</div>"
            ],
            "text/plain": [
              "   PassengerId  Survived  Pclass  ...     Fare Cabin  Embarked\n",
              "0            1         0       3  ...   7.2500   NaN         S\n",
              "1            2         1       1  ...  71.2833   C85         C\n",
              "2            3         1       3  ...   7.9250   NaN         S\n",
              "3            4         1       1  ...  53.1000  C123         S\n",
              "4            5         0       3  ...   8.0500   NaN         S\n",
              "\n",
              "[5 rows x 12 columns]"
            ]
          },
          "metadata": {
            "tags": []
          },
          "execution_count": 240
        }
      ]
    },
    {
      "cell_type": "code",
      "metadata": {
        "id": "M2xn-0hG0E3U",
        "colab_type": "code",
        "colab": {
          "base_uri": "https://localhost:8080/",
          "height": 204
        },
        "outputId": "8e7a1e6d-d9b9-41b9-b770-1708777f8b56"
      },
      "source": [
        "df_test.head()"
      ],
      "execution_count": 241,
      "outputs": [
        {
          "output_type": "execute_result",
          "data": {
            "text/html": [
              "<div>\n",
              "<style scoped>\n",
              "    .dataframe tbody tr th:only-of-type {\n",
              "        vertical-align: middle;\n",
              "    }\n",
              "\n",
              "    .dataframe tbody tr th {\n",
              "        vertical-align: top;\n",
              "    }\n",
              "\n",
              "    .dataframe thead th {\n",
              "        text-align: right;\n",
              "    }\n",
              "</style>\n",
              "<table border=\"1\" class=\"dataframe\">\n",
              "  <thead>\n",
              "    <tr style=\"text-align: right;\">\n",
              "      <th></th>\n",
              "      <th>PassengerId</th>\n",
              "      <th>Pclass</th>\n",
              "      <th>Name</th>\n",
              "      <th>Sex</th>\n",
              "      <th>Age</th>\n",
              "      <th>SibSp</th>\n",
              "      <th>Parch</th>\n",
              "      <th>Ticket</th>\n",
              "      <th>Fare</th>\n",
              "      <th>Cabin</th>\n",
              "      <th>Embarked</th>\n",
              "    </tr>\n",
              "  </thead>\n",
              "  <tbody>\n",
              "    <tr>\n",
              "      <th>0</th>\n",
              "      <td>892</td>\n",
              "      <td>3</td>\n",
              "      <td>Kelly, Mr. James</td>\n",
              "      <td>male</td>\n",
              "      <td>34.5</td>\n",
              "      <td>0</td>\n",
              "      <td>0</td>\n",
              "      <td>330911</td>\n",
              "      <td>7.8292</td>\n",
              "      <td>NaN</td>\n",
              "      <td>Q</td>\n",
              "    </tr>\n",
              "    <tr>\n",
              "      <th>1</th>\n",
              "      <td>893</td>\n",
              "      <td>3</td>\n",
              "      <td>Wilkes, Mrs. James (Ellen Needs)</td>\n",
              "      <td>female</td>\n",
              "      <td>47.0</td>\n",
              "      <td>1</td>\n",
              "      <td>0</td>\n",
              "      <td>363272</td>\n",
              "      <td>7.0000</td>\n",
              "      <td>NaN</td>\n",
              "      <td>S</td>\n",
              "    </tr>\n",
              "    <tr>\n",
              "      <th>2</th>\n",
              "      <td>894</td>\n",
              "      <td>2</td>\n",
              "      <td>Myles, Mr. Thomas Francis</td>\n",
              "      <td>male</td>\n",
              "      <td>62.0</td>\n",
              "      <td>0</td>\n",
              "      <td>0</td>\n",
              "      <td>240276</td>\n",
              "      <td>9.6875</td>\n",
              "      <td>NaN</td>\n",
              "      <td>Q</td>\n",
              "    </tr>\n",
              "    <tr>\n",
              "      <th>3</th>\n",
              "      <td>895</td>\n",
              "      <td>3</td>\n",
              "      <td>Wirz, Mr. Albert</td>\n",
              "      <td>male</td>\n",
              "      <td>27.0</td>\n",
              "      <td>0</td>\n",
              "      <td>0</td>\n",
              "      <td>315154</td>\n",
              "      <td>8.6625</td>\n",
              "      <td>NaN</td>\n",
              "      <td>S</td>\n",
              "    </tr>\n",
              "    <tr>\n",
              "      <th>4</th>\n",
              "      <td>896</td>\n",
              "      <td>3</td>\n",
              "      <td>Hirvonen, Mrs. Alexander (Helga E Lindqvist)</td>\n",
              "      <td>female</td>\n",
              "      <td>22.0</td>\n",
              "      <td>1</td>\n",
              "      <td>1</td>\n",
              "      <td>3101298</td>\n",
              "      <td>12.2875</td>\n",
              "      <td>NaN</td>\n",
              "      <td>S</td>\n",
              "    </tr>\n",
              "  </tbody>\n",
              "</table>\n",
              "</div>"
            ],
            "text/plain": [
              "   PassengerId  Pclass  ... Cabin Embarked\n",
              "0          892       3  ...   NaN        Q\n",
              "1          893       3  ...   NaN        S\n",
              "2          894       2  ...   NaN        Q\n",
              "3          895       3  ...   NaN        S\n",
              "4          896       3  ...   NaN        S\n",
              "\n",
              "[5 rows x 11 columns]"
            ]
          },
          "metadata": {
            "tags": []
          },
          "execution_count": 241
        }
      ]
    },
    {
      "cell_type": "markdown",
      "metadata": {
        "id": "MNNSyp_L8Ihr",
        "colab_type": "text"
      },
      "source": [
        "# Data Preprocessing"
      ]
    },
    {
      "cell_type": "code",
      "metadata": {
        "id": "xwmpzoZU0E3k",
        "colab_type": "code",
        "colab": {
          "base_uri": "https://localhost:8080/",
          "height": 297
        },
        "outputId": "9c63f1ef-659a-463a-cad3-fecc83c04bcf"
      },
      "source": [
        "df_train.describe()"
      ],
      "execution_count": 242,
      "outputs": [
        {
          "output_type": "execute_result",
          "data": {
            "text/html": [
              "<div>\n",
              "<style scoped>\n",
              "    .dataframe tbody tr th:only-of-type {\n",
              "        vertical-align: middle;\n",
              "    }\n",
              "\n",
              "    .dataframe tbody tr th {\n",
              "        vertical-align: top;\n",
              "    }\n",
              "\n",
              "    .dataframe thead th {\n",
              "        text-align: right;\n",
              "    }\n",
              "</style>\n",
              "<table border=\"1\" class=\"dataframe\">\n",
              "  <thead>\n",
              "    <tr style=\"text-align: right;\">\n",
              "      <th></th>\n",
              "      <th>PassengerId</th>\n",
              "      <th>Survived</th>\n",
              "      <th>Pclass</th>\n",
              "      <th>Age</th>\n",
              "      <th>SibSp</th>\n",
              "      <th>Parch</th>\n",
              "      <th>Fare</th>\n",
              "    </tr>\n",
              "  </thead>\n",
              "  <tbody>\n",
              "    <tr>\n",
              "      <th>count</th>\n",
              "      <td>891.000000</td>\n",
              "      <td>891.000000</td>\n",
              "      <td>891.000000</td>\n",
              "      <td>714.000000</td>\n",
              "      <td>891.000000</td>\n",
              "      <td>891.000000</td>\n",
              "      <td>891.000000</td>\n",
              "    </tr>\n",
              "    <tr>\n",
              "      <th>mean</th>\n",
              "      <td>446.000000</td>\n",
              "      <td>0.383838</td>\n",
              "      <td>2.308642</td>\n",
              "      <td>29.699118</td>\n",
              "      <td>0.523008</td>\n",
              "      <td>0.381594</td>\n",
              "      <td>32.204208</td>\n",
              "    </tr>\n",
              "    <tr>\n",
              "      <th>std</th>\n",
              "      <td>257.353842</td>\n",
              "      <td>0.486592</td>\n",
              "      <td>0.836071</td>\n",
              "      <td>14.526497</td>\n",
              "      <td>1.102743</td>\n",
              "      <td>0.806057</td>\n",
              "      <td>49.693429</td>\n",
              "    </tr>\n",
              "    <tr>\n",
              "      <th>min</th>\n",
              "      <td>1.000000</td>\n",
              "      <td>0.000000</td>\n",
              "      <td>1.000000</td>\n",
              "      <td>0.420000</td>\n",
              "      <td>0.000000</td>\n",
              "      <td>0.000000</td>\n",
              "      <td>0.000000</td>\n",
              "    </tr>\n",
              "    <tr>\n",
              "      <th>25%</th>\n",
              "      <td>223.500000</td>\n",
              "      <td>0.000000</td>\n",
              "      <td>2.000000</td>\n",
              "      <td>20.125000</td>\n",
              "      <td>0.000000</td>\n",
              "      <td>0.000000</td>\n",
              "      <td>7.910400</td>\n",
              "    </tr>\n",
              "    <tr>\n",
              "      <th>50%</th>\n",
              "      <td>446.000000</td>\n",
              "      <td>0.000000</td>\n",
              "      <td>3.000000</td>\n",
              "      <td>28.000000</td>\n",
              "      <td>0.000000</td>\n",
              "      <td>0.000000</td>\n",
              "      <td>14.454200</td>\n",
              "    </tr>\n",
              "    <tr>\n",
              "      <th>75%</th>\n",
              "      <td>668.500000</td>\n",
              "      <td>1.000000</td>\n",
              "      <td>3.000000</td>\n",
              "      <td>38.000000</td>\n",
              "      <td>1.000000</td>\n",
              "      <td>0.000000</td>\n",
              "      <td>31.000000</td>\n",
              "    </tr>\n",
              "    <tr>\n",
              "      <th>max</th>\n",
              "      <td>891.000000</td>\n",
              "      <td>1.000000</td>\n",
              "      <td>3.000000</td>\n",
              "      <td>80.000000</td>\n",
              "      <td>8.000000</td>\n",
              "      <td>6.000000</td>\n",
              "      <td>512.329200</td>\n",
              "    </tr>\n",
              "  </tbody>\n",
              "</table>\n",
              "</div>"
            ],
            "text/plain": [
              "       PassengerId    Survived      Pclass  ...       SibSp       Parch        Fare\n",
              "count   891.000000  891.000000  891.000000  ...  891.000000  891.000000  891.000000\n",
              "mean    446.000000    0.383838    2.308642  ...    0.523008    0.381594   32.204208\n",
              "std     257.353842    0.486592    0.836071  ...    1.102743    0.806057   49.693429\n",
              "min       1.000000    0.000000    1.000000  ...    0.000000    0.000000    0.000000\n",
              "25%     223.500000    0.000000    2.000000  ...    0.000000    0.000000    7.910400\n",
              "50%     446.000000    0.000000    3.000000  ...    0.000000    0.000000   14.454200\n",
              "75%     668.500000    1.000000    3.000000  ...    1.000000    0.000000   31.000000\n",
              "max     891.000000    1.000000    3.000000  ...    8.000000    6.000000  512.329200\n",
              "\n",
              "[8 rows x 7 columns]"
            ]
          },
          "metadata": {
            "tags": []
          },
          "execution_count": 242
        }
      ]
    },
    {
      "cell_type": "code",
      "metadata": {
        "id": "mIyAC1dZ0E3t",
        "colab_type": "code",
        "colab": {
          "base_uri": "https://localhost:8080/",
          "height": 340
        },
        "outputId": "7c0b945a-96cd-4e81-eb7a-46b850e05d53"
      },
      "source": [
        "df_train.info()"
      ],
      "execution_count": 243,
      "outputs": [
        {
          "output_type": "stream",
          "text": [
            "<class 'pandas.core.frame.DataFrame'>\n",
            "RangeIndex: 891 entries, 0 to 890\n",
            "Data columns (total 12 columns):\n",
            " #   Column       Non-Null Count  Dtype  \n",
            "---  ------       --------------  -----  \n",
            " 0   PassengerId  891 non-null    int64  \n",
            " 1   Survived     891 non-null    int64  \n",
            " 2   Pclass       891 non-null    int64  \n",
            " 3   Name         891 non-null    object \n",
            " 4   Sex          891 non-null    object \n",
            " 5   Age          714 non-null    float64\n",
            " 6   SibSp        891 non-null    int64  \n",
            " 7   Parch        891 non-null    int64  \n",
            " 8   Ticket       891 non-null    object \n",
            " 9   Fare         891 non-null    float64\n",
            " 10  Cabin        204 non-null    object \n",
            " 11  Embarked     889 non-null    object \n",
            "dtypes: float64(2), int64(5), object(5)\n",
            "memory usage: 83.7+ KB\n"
          ],
          "name": "stdout"
        }
      ]
    },
    {
      "cell_type": "markdown",
      "metadata": {
        "id": "91FslqIn0E31",
        "colab_type": "text"
      },
      "source": [
        "## Missing Values"
      ]
    },
    {
      "cell_type": "markdown",
      "metadata": {
        "id": "AZrJR20iNsXq",
        "colab_type": "text"
      },
      "source": [
        "### Training Set"
      ]
    },
    {
      "cell_type": "code",
      "metadata": {
        "id": "o2_-k6yP0E33",
        "colab_type": "code",
        "colab": {
          "base_uri": "https://localhost:8080/",
          "height": 238
        },
        "outputId": "cd255f7b-eaeb-4ec8-ffea-0b9a4d2b8ebe"
      },
      "source": [
        "df_train.isna().sum()"
      ],
      "execution_count": 244,
      "outputs": [
        {
          "output_type": "execute_result",
          "data": {
            "text/plain": [
              "PassengerId      0\n",
              "Survived         0\n",
              "Pclass           0\n",
              "Name             0\n",
              "Sex              0\n",
              "Age            177\n",
              "SibSp            0\n",
              "Parch            0\n",
              "Ticket           0\n",
              "Fare             0\n",
              "Cabin          687\n",
              "Embarked         2\n",
              "dtype: int64"
            ]
          },
          "metadata": {
            "tags": []
          },
          "execution_count": 244
        }
      ]
    },
    {
      "cell_type": "code",
      "metadata": {
        "id": "b_9OrN2i0E39",
        "colab_type": "code",
        "colab": {}
      },
      "source": [
        "df_train[\"Age\"] = df_train[\"Age\"].fillna(value = df_train[\"Age\"].mean())\n",
        "\n",
        "del df_train[\"Cabin\"] #Too much missing values\n",
        "del df_train[\"Ticket\"] # Irrelevant\n",
        "del df_train[\"Name\"] # Irrelevant\n",
        "del df_train[\"PassengerId\"] # Irrelevant\n",
        "\n",
        "#Drop rows with NaN values\n",
        "df_train.dropna(subset = [\"Embarked\"], inplace=True)"
      ],
      "execution_count": 245,
      "outputs": []
    },
    {
      "cell_type": "code",
      "metadata": {
        "id": "z0bSthe-LzYh",
        "colab_type": "code",
        "colab": {
          "base_uri": "https://localhost:8080/",
          "height": 170
        },
        "outputId": "bd51d7f6-f2d4-46d4-d6cc-05c92df8e065"
      },
      "source": [
        "df_train.isna().sum()"
      ],
      "execution_count": 246,
      "outputs": [
        {
          "output_type": "execute_result",
          "data": {
            "text/plain": [
              "Survived    0\n",
              "Pclass      0\n",
              "Sex         0\n",
              "Age         0\n",
              "SibSp       0\n",
              "Parch       0\n",
              "Fare        0\n",
              "Embarked    0\n",
              "dtype: int64"
            ]
          },
          "metadata": {
            "tags": []
          },
          "execution_count": 246
        }
      ]
    },
    {
      "cell_type": "markdown",
      "metadata": {
        "id": "gNQS9aHaRkEC",
        "colab_type": "text"
      },
      "source": [
        "### Test Set"
      ]
    },
    {
      "cell_type": "code",
      "metadata": {
        "id": "fE2zJWgTRpzA",
        "colab_type": "code",
        "colab": {
          "base_uri": "https://localhost:8080/",
          "height": 221
        },
        "outputId": "0d041241-2a45-4b18-8915-1cc89df9835f"
      },
      "source": [
        "df_test.isna().sum()"
      ],
      "execution_count": 247,
      "outputs": [
        {
          "output_type": "execute_result",
          "data": {
            "text/plain": [
              "PassengerId      0\n",
              "Pclass           0\n",
              "Name             0\n",
              "Sex              0\n",
              "Age             86\n",
              "SibSp            0\n",
              "Parch            0\n",
              "Ticket           0\n",
              "Fare             1\n",
              "Cabin          327\n",
              "Embarked         0\n",
              "dtype: int64"
            ]
          },
          "metadata": {
            "tags": []
          },
          "execution_count": 247
        }
      ]
    },
    {
      "cell_type": "code",
      "metadata": {
        "id": "3jqbzeu4Rvsp",
        "colab_type": "code",
        "colab": {}
      },
      "source": [
        "df_test[\"Age\"] = df_test[\"Age\"].fillna(value = df_test[\"Age\"].mean())\n",
        "df_test[\"Fare\"] = df_test[\"Fare\"].fillna(value = df_test[\"Fare\"].mean())\n",
        "\n",
        "del df_test[\"Cabin\"] #Too much missing values\n",
        "del df_test[\"Ticket\"] # Irrelevant\n",
        "del df_test[\"Name\"] # Irrelevant"
      ],
      "execution_count": 248,
      "outputs": []
    },
    {
      "cell_type": "code",
      "metadata": {
        "id": "CvNa0kI3S1oN",
        "colab_type": "code",
        "colab": {
          "base_uri": "https://localhost:8080/",
          "height": 170
        },
        "outputId": "4738b418-db7d-40cd-af3d-264e77ee757d"
      },
      "source": [
        "df_test.isna().sum()"
      ],
      "execution_count": 249,
      "outputs": [
        {
          "output_type": "execute_result",
          "data": {
            "text/plain": [
              "PassengerId    0\n",
              "Pclass         0\n",
              "Sex            0\n",
              "Age            0\n",
              "SibSp          0\n",
              "Parch          0\n",
              "Fare           0\n",
              "Embarked       0\n",
              "dtype: int64"
            ]
          },
          "metadata": {
            "tags": []
          },
          "execution_count": 249
        }
      ]
    },
    {
      "cell_type": "markdown",
      "metadata": {
        "id": "9sFs7Uk40E4J",
        "colab_type": "text"
      },
      "source": [
        "# One hot encoding"
      ]
    },
    {
      "cell_type": "code",
      "metadata": {
        "id": "dtTEB2dx0E4R",
        "colab_type": "code",
        "colab": {
          "base_uri": "https://localhost:8080/",
          "height": 272
        },
        "outputId": "f30e4d95-374d-450e-af31-6f8f4f3ec0a4"
      },
      "source": [
        "df_train.info()"
      ],
      "execution_count": 250,
      "outputs": [
        {
          "output_type": "stream",
          "text": [
            "<class 'pandas.core.frame.DataFrame'>\n",
            "Int64Index: 889 entries, 0 to 890\n",
            "Data columns (total 8 columns):\n",
            " #   Column    Non-Null Count  Dtype  \n",
            "---  ------    --------------  -----  \n",
            " 0   Survived  889 non-null    int64  \n",
            " 1   Pclass    889 non-null    int64  \n",
            " 2   Sex       889 non-null    object \n",
            " 3   Age       889 non-null    float64\n",
            " 4   SibSp     889 non-null    int64  \n",
            " 5   Parch     889 non-null    int64  \n",
            " 6   Fare      889 non-null    float64\n",
            " 7   Embarked  889 non-null    object \n",
            "dtypes: float64(2), int64(4), object(2)\n",
            "memory usage: 62.5+ KB\n"
          ],
          "name": "stdout"
        }
      ]
    },
    {
      "cell_type": "code",
      "metadata": {
        "id": "vtAlkJYF0E4Y",
        "colab_type": "code",
        "colab": {}
      },
      "source": [
        "#Train\n",
        "df_train = pd.concat([df_train,pd.get_dummies(df_train['Sex'], prefix='Sex',dummy_na=False)],axis=1).drop(['Sex'],axis=1)\n",
        "df_train = pd.concat([df_train,pd.get_dummies(df_train['Embarked'], prefix='Embarked',dummy_na=False)],axis=1).drop(['Embarked'],axis=1)\n",
        "#df_train = pd.concat([df_train,pd.get_dummies(df_train['Pclass'], prefix='Pclass',dummy_na=False)],axis=1).drop(['Pclass'],axis=1)\n",
        "#df_train = pd.concat([df_train,pd.get_dummies(df_train['SibSp'], prefix='SibSp',dummy_na=False)],axis=1).drop(['SibSp'],axis=1)\n",
        "\n",
        "#Test\n",
        "df_test = pd.concat([df_test,pd.get_dummies(df_test['Sex'], prefix='Sex',dummy_na=False)],axis=1).drop(['Sex'],axis=1)\n",
        "df_test = pd.concat([df_test,pd.get_dummies(df_test['Embarked'], prefix='Embarked',dummy_na=False)],axis=1).drop(['Embarked'],axis=1)\n",
        "#df_test = pd.concat([df_test,pd.get_dummies(df_test['Pclass'], prefix='Pclass',dummy_na=False)],axis=1).drop(['Pclass'],axis=1)\n",
        "#df_test = pd.concat([df_test,pd.get_dummies(df_test['SibSp'], prefix='SibSp',dummy_na=False)],axis=1).drop(['SibSp'],axis=1)"
      ],
      "execution_count": 251,
      "outputs": []
    },
    {
      "cell_type": "code",
      "metadata": {
        "id": "AIsTwhJc0E4c",
        "colab_type": "code",
        "colab": {
          "base_uri": "https://localhost:8080/",
          "height": 204
        },
        "outputId": "eaad45af-c684-46d3-87cb-321a03f3898c"
      },
      "source": [
        "df_train.head()"
      ],
      "execution_count": 252,
      "outputs": [
        {
          "output_type": "execute_result",
          "data": {
            "text/html": [
              "<div>\n",
              "<style scoped>\n",
              "    .dataframe tbody tr th:only-of-type {\n",
              "        vertical-align: middle;\n",
              "    }\n",
              "\n",
              "    .dataframe tbody tr th {\n",
              "        vertical-align: top;\n",
              "    }\n",
              "\n",
              "    .dataframe thead th {\n",
              "        text-align: right;\n",
              "    }\n",
              "</style>\n",
              "<table border=\"1\" class=\"dataframe\">\n",
              "  <thead>\n",
              "    <tr style=\"text-align: right;\">\n",
              "      <th></th>\n",
              "      <th>Survived</th>\n",
              "      <th>Pclass</th>\n",
              "      <th>Age</th>\n",
              "      <th>SibSp</th>\n",
              "      <th>Parch</th>\n",
              "      <th>Fare</th>\n",
              "      <th>Sex_female</th>\n",
              "      <th>Sex_male</th>\n",
              "      <th>Embarked_C</th>\n",
              "      <th>Embarked_Q</th>\n",
              "      <th>Embarked_S</th>\n",
              "    </tr>\n",
              "  </thead>\n",
              "  <tbody>\n",
              "    <tr>\n",
              "      <th>0</th>\n",
              "      <td>0</td>\n",
              "      <td>3</td>\n",
              "      <td>22.0</td>\n",
              "      <td>1</td>\n",
              "      <td>0</td>\n",
              "      <td>7.2500</td>\n",
              "      <td>0</td>\n",
              "      <td>1</td>\n",
              "      <td>0</td>\n",
              "      <td>0</td>\n",
              "      <td>1</td>\n",
              "    </tr>\n",
              "    <tr>\n",
              "      <th>1</th>\n",
              "      <td>1</td>\n",
              "      <td>1</td>\n",
              "      <td>38.0</td>\n",
              "      <td>1</td>\n",
              "      <td>0</td>\n",
              "      <td>71.2833</td>\n",
              "      <td>1</td>\n",
              "      <td>0</td>\n",
              "      <td>1</td>\n",
              "      <td>0</td>\n",
              "      <td>0</td>\n",
              "    </tr>\n",
              "    <tr>\n",
              "      <th>2</th>\n",
              "      <td>1</td>\n",
              "      <td>3</td>\n",
              "      <td>26.0</td>\n",
              "      <td>0</td>\n",
              "      <td>0</td>\n",
              "      <td>7.9250</td>\n",
              "      <td>1</td>\n",
              "      <td>0</td>\n",
              "      <td>0</td>\n",
              "      <td>0</td>\n",
              "      <td>1</td>\n",
              "    </tr>\n",
              "    <tr>\n",
              "      <th>3</th>\n",
              "      <td>1</td>\n",
              "      <td>1</td>\n",
              "      <td>35.0</td>\n",
              "      <td>1</td>\n",
              "      <td>0</td>\n",
              "      <td>53.1000</td>\n",
              "      <td>1</td>\n",
              "      <td>0</td>\n",
              "      <td>0</td>\n",
              "      <td>0</td>\n",
              "      <td>1</td>\n",
              "    </tr>\n",
              "    <tr>\n",
              "      <th>4</th>\n",
              "      <td>0</td>\n",
              "      <td>3</td>\n",
              "      <td>35.0</td>\n",
              "      <td>0</td>\n",
              "      <td>0</td>\n",
              "      <td>8.0500</td>\n",
              "      <td>0</td>\n",
              "      <td>1</td>\n",
              "      <td>0</td>\n",
              "      <td>0</td>\n",
              "      <td>1</td>\n",
              "    </tr>\n",
              "  </tbody>\n",
              "</table>\n",
              "</div>"
            ],
            "text/plain": [
              "   Survived  Pclass   Age  SibSp  ...  Sex_male  Embarked_C  Embarked_Q  Embarked_S\n",
              "0         0       3  22.0      1  ...         1           0           0           1\n",
              "1         1       1  38.0      1  ...         0           1           0           0\n",
              "2         1       3  26.0      0  ...         0           0           0           1\n",
              "3         1       1  35.0      1  ...         0           0           0           1\n",
              "4         0       3  35.0      0  ...         1           0           0           1\n",
              "\n",
              "[5 rows x 11 columns]"
            ]
          },
          "metadata": {
            "tags": []
          },
          "execution_count": 252
        }
      ]
    },
    {
      "cell_type": "code",
      "metadata": {
        "id": "-VvZyOjkObuf",
        "colab_type": "code",
        "colab": {
          "base_uri": "https://localhost:8080/",
          "height": 204
        },
        "outputId": "0d3e8d88-a78f-4709-ca9a-3853f415ea2f"
      },
      "source": [
        "df_test.head()"
      ],
      "execution_count": 253,
      "outputs": [
        {
          "output_type": "execute_result",
          "data": {
            "text/html": [
              "<div>\n",
              "<style scoped>\n",
              "    .dataframe tbody tr th:only-of-type {\n",
              "        vertical-align: middle;\n",
              "    }\n",
              "\n",
              "    .dataframe tbody tr th {\n",
              "        vertical-align: top;\n",
              "    }\n",
              "\n",
              "    .dataframe thead th {\n",
              "        text-align: right;\n",
              "    }\n",
              "</style>\n",
              "<table border=\"1\" class=\"dataframe\">\n",
              "  <thead>\n",
              "    <tr style=\"text-align: right;\">\n",
              "      <th></th>\n",
              "      <th>PassengerId</th>\n",
              "      <th>Pclass</th>\n",
              "      <th>Age</th>\n",
              "      <th>SibSp</th>\n",
              "      <th>Parch</th>\n",
              "      <th>Fare</th>\n",
              "      <th>Sex_female</th>\n",
              "      <th>Sex_male</th>\n",
              "      <th>Embarked_C</th>\n",
              "      <th>Embarked_Q</th>\n",
              "      <th>Embarked_S</th>\n",
              "    </tr>\n",
              "  </thead>\n",
              "  <tbody>\n",
              "    <tr>\n",
              "      <th>0</th>\n",
              "      <td>892</td>\n",
              "      <td>3</td>\n",
              "      <td>34.5</td>\n",
              "      <td>0</td>\n",
              "      <td>0</td>\n",
              "      <td>7.8292</td>\n",
              "      <td>0</td>\n",
              "      <td>1</td>\n",
              "      <td>0</td>\n",
              "      <td>1</td>\n",
              "      <td>0</td>\n",
              "    </tr>\n",
              "    <tr>\n",
              "      <th>1</th>\n",
              "      <td>893</td>\n",
              "      <td>3</td>\n",
              "      <td>47.0</td>\n",
              "      <td>1</td>\n",
              "      <td>0</td>\n",
              "      <td>7.0000</td>\n",
              "      <td>1</td>\n",
              "      <td>0</td>\n",
              "      <td>0</td>\n",
              "      <td>0</td>\n",
              "      <td>1</td>\n",
              "    </tr>\n",
              "    <tr>\n",
              "      <th>2</th>\n",
              "      <td>894</td>\n",
              "      <td>2</td>\n",
              "      <td>62.0</td>\n",
              "      <td>0</td>\n",
              "      <td>0</td>\n",
              "      <td>9.6875</td>\n",
              "      <td>0</td>\n",
              "      <td>1</td>\n",
              "      <td>0</td>\n",
              "      <td>1</td>\n",
              "      <td>0</td>\n",
              "    </tr>\n",
              "    <tr>\n",
              "      <th>3</th>\n",
              "      <td>895</td>\n",
              "      <td>3</td>\n",
              "      <td>27.0</td>\n",
              "      <td>0</td>\n",
              "      <td>0</td>\n",
              "      <td>8.6625</td>\n",
              "      <td>0</td>\n",
              "      <td>1</td>\n",
              "      <td>0</td>\n",
              "      <td>0</td>\n",
              "      <td>1</td>\n",
              "    </tr>\n",
              "    <tr>\n",
              "      <th>4</th>\n",
              "      <td>896</td>\n",
              "      <td>3</td>\n",
              "      <td>22.0</td>\n",
              "      <td>1</td>\n",
              "      <td>1</td>\n",
              "      <td>12.2875</td>\n",
              "      <td>1</td>\n",
              "      <td>0</td>\n",
              "      <td>0</td>\n",
              "      <td>0</td>\n",
              "      <td>1</td>\n",
              "    </tr>\n",
              "  </tbody>\n",
              "</table>\n",
              "</div>"
            ],
            "text/plain": [
              "   PassengerId  Pclass   Age  ...  Embarked_C  Embarked_Q  Embarked_S\n",
              "0          892       3  34.5  ...           0           1           0\n",
              "1          893       3  47.0  ...           0           0           1\n",
              "2          894       2  62.0  ...           0           1           0\n",
              "3          895       3  27.0  ...           0           0           1\n",
              "4          896       3  22.0  ...           0           0           1\n",
              "\n",
              "[5 rows x 11 columns]"
            ]
          },
          "metadata": {
            "tags": []
          },
          "execution_count": 253
        }
      ]
    },
    {
      "cell_type": "markdown",
      "metadata": {
        "id": "xcChXQI_0E4p",
        "colab_type": "text"
      },
      "source": [
        "# Some plots"
      ]
    },
    {
      "cell_type": "code",
      "metadata": {
        "id": "DVuW7xu84SwV",
        "colab_type": "code",
        "colab": {
          "base_uri": "https://localhost:8080/",
          "height": 299
        },
        "outputId": "b43d7052-9d19-43f2-dc31-41a775f31501"
      },
      "source": [
        "plt.scatter(df_train[\"Age\"],df_train[\"Survived\"])\n",
        "\n",
        "plt.title(\"Relation Age/Survived\")\n",
        "plt.xlabel(\"Age\")\n",
        "plt.ylabel(\"Survived\")\n",
        "plt.show()"
      ],
      "execution_count": 254,
      "outputs": [
        {
          "output_type": "display_data",
          "data": {
            "image/png": "[encoded data removed]",
            "text/plain": [
              "<Figure size 432x288 with 1 Axes>"
            ]
          },
          "metadata": {
            "tags": []
          }
        }
      ]
    },
    {
      "cell_type": "code",
      "metadata": {
        "id": "KoLRhSUQ0E4q",
        "colab_type": "code",
        "colab": {
          "base_uri": "https://localhost:8080/",
          "height": 269
        },
        "outputId": "7ec029f8-a42c-4daf-f52a-a43a6d4d2eae"
      },
      "source": [
        "sns.boxplot(y = \"Fare\", data = df_train)"
      ],
      "execution_count": 255,
      "outputs": [
        {
          "output_type": "execute_result",
          "data": {
            "text/plain": [
              "<matplotlib.axes._subplots.AxesSubplot at 0x7f6664f8f1d0>"
            ]
          },
          "metadata": {
            "tags": []
          },
          "execution_count": 255
        },
        {
          "output_type": "display_data",
          "data": {
            "image/png": "[encoded data removed]",
            "text/plain": [
              "<Figure size 432x288 with 1 Axes>"
            ]
          },
          "metadata": {
            "tags": []
          }
        }
      ]
    },
    {
      "cell_type": "code",
      "metadata": {
        "id": "egqk7i8D0E5G",
        "colab_type": "code",
        "colab": {
          "base_uri": "https://localhost:8080/",
          "height": 458
        },
        "outputId": "9cec8987-4970-46d6-a2ab-e21b4a68c368"
      },
      "source": [
        "sns.jointplot(x=\"Fare\", y=\"Survived\", data=df_train)"
      ],
      "execution_count": 256,
      "outputs": [
        {
          "output_type": "execute_result",
          "data": {
            "text/plain": [
              "<seaborn.axisgrid.JointGrid at 0x7f6664ec6eb8>"
            ]
          },
          "metadata": {
            "tags": []
          },
          "execution_count": 256
        },
        {
          "output_type": "display_data",
          "data": {
            "image/png": "[encoded data removed]",
            "text/plain": [
              "<Figure size 432x432 with 3 Axes>"
            ]
          },
          "metadata": {
            "tags": []
          }
        }
      ]
    },
    {
      "cell_type": "code",
      "metadata": {
        "id": "td1G5yUM0E5I",
        "colab_type": "code",
        "colab": {
          "base_uri": "https://localhost:8080/",
          "height": 282
        },
        "outputId": "3e968d26-1701-490d-c020-b33cd6ed55b4"
      },
      "source": [
        "plt.scatter(x = df_train[\"Fare\"], y = df_train[\"Survived\"])"
      ],
      "execution_count": 257,
      "outputs": [
        {
          "output_type": "execute_result",
          "data": {
            "text/plain": [
              "<matplotlib.collections.PathCollection at 0x7f6664cf9630>"
            ]
          },
          "metadata": {
            "tags": []
          },
          "execution_count": 257
        },
        {
          "output_type": "display_data",
          "data": {
            "image/png": "[encoded data removed]",
            "text/plain": [
              "<Figure size 432x288 with 1 Axes>"
            ]
          },
          "metadata": {
            "tags": []
          }
        }
      ]
    },
    {
      "cell_type": "code",
      "metadata": {
        "id": "BN22tIhw0E5S",
        "colab_type": "code",
        "colab": {
          "base_uri": "https://localhost:8080/",
          "height": 299
        },
        "outputId": "c88ba367-92cd-4547-efc1-f83aeb60c680"
      },
      "source": [
        "sns.countplot(x = \"Age\", data = df_train)"
      ],
      "execution_count": 258,
      "outputs": [
        {
          "output_type": "execute_result",
          "data": {
            "text/plain": [
              "<matplotlib.axes._subplots.AxesSubplot at 0x7f6664c6d048>"
            ]
          },
          "metadata": {
            "tags": []
          },
          "execution_count": 258
        },
        {
          "output_type": "display_data",
          "data": {
            "image/png": "[encoded data removed]",
            "text/plain": [
              "<Figure size 432x288 with 1 Axes>"
            ]
          },
          "metadata": {
            "tags": []
          }
        }
      ]
    },
    {
      "cell_type": "code",
      "metadata": {
        "id": "KAXonJMqUzj-",
        "colab_type": "code",
        "colab": {
          "base_uri": "https://localhost:8080/",
          "height": 437
        },
        "outputId": "dd0067e6-3d8e-4e4b-94e3-d77d6eb58b0a"
      },
      "source": [
        "s_child = df_train.loc[(df_train[\"Age\"] <= 15) & (df_train[\"Survived\"] == 0)].count()[0]\n",
        "s_30 = df_train.loc[(df_train[\"Age\"] > 15) & (df_train[\"Age\"] <= 30) & (df_train[\"Survived\"] == 0)].count()[0]\n",
        "s_45 = df_train.loc[(df_train[\"Age\"] > 30) & (df_train[\"Age\"] <= 45) & (df_train[\"Survived\"] == 0)].count()[0]\n",
        "s_60 = df_train.loc[(df_train[\"Age\"] > 45) & (df_train[\"Age\"] <= 60) & (df_train[\"Survived\"] == 0)].count()[0]\n",
        "s_old = df_train.loc[(df_train[\"Age\"] > 60) & (df_train[\"Survived\"] == 0)].count()[0]\n",
        "\n",
        "survived_age = [s_child, s_30, s_45, s_60, s_old]\n",
        "label = ['0-15', '15-30', '30-45', '45-60', '+60']\n",
        "explode = [0.2,0,0,0.2,0.3]\n",
        "\n",
        "plt.style.use('ggplot')\n",
        "plt.figure(figsize=(8,5), dpi=100)\n",
        "\n",
        "plt.pie(survived_age, explode=explode, labels=label, pctdistance=0.8, autopct='%.2f %%')\n",
        "plt.title(\"Non-surviving People's Age\")\n",
        "plt.show()"
      ],
      "execution_count": 259,
      "outputs": [
        {
          "output_type": "display_data",
          "data": {
            "image/png": "[encoded data removed]",
            "text/plain": [
              "<Figure size 800x500 with 1 Axes>"
            ]
          },
          "metadata": {
            "tags": []
          }
        }
      ]
    },
    {
      "cell_type": "code",
      "metadata": {
        "id": "iuAL0PYhcpQ3",
        "colab_type": "code",
        "colab": {
          "base_uri": "https://localhost:8080/",
          "height": 437
        },
        "outputId": "4f800e7f-45fa-4b3e-d0b8-99cef94530a0"
      },
      "source": [
        "s_child = df_train.loc[(df_train[\"Age\"] <= 15) & (df_train[\"Survived\"] == 1)].count()[0]\n",
        "s_30 = df_train.loc[(df_train[\"Age\"] > 15) & (df_train[\"Age\"] <= 30) & (df_train[\"Survived\"] == 1)].count()[0]\n",
        "s_45 = df_train.loc[(df_train[\"Age\"] > 30) & (df_train[\"Age\"] <= 45) & (df_train[\"Survived\"] == 1)].count()[0]\n",
        "s_60 = df_train.loc[(df_train[\"Age\"] > 45) & (df_train[\"Age\"] <= 60) & (df_train[\"Survived\"] == 1)].count()[0]\n",
        "s_old = df_train.loc[(df_train[\"Age\"] > 60) & (df_train[\"Survived\"] == 1)].count()[0]\n",
        "\n",
        "survived_age = [s_child, s_30, s_45, s_60, s_old]\n",
        "label = ['0-15', '15-30', '30-45', '45-60', '+60']\n",
        "explode = [0.2,0,0,0.2,0.3]\n",
        "\n",
        "plt.style.use('ggplot')\n",
        "plt.figure(figsize=(8,5), dpi=100)\n",
        "\n",
        "plt.pie(survived_age, explode=explode, labels=label, pctdistance=0.8, autopct='%.2f %%')\n",
        "plt.title(\"Surviving People's Age\")\n",
        "plt.show()"
      ],
      "execution_count": 260,
      "outputs": [
        {
          "output_type": "display_data",
          "data": {
            "image/png": "[encoded data removed]",
            "text/plain": [
              "<Figure size 800x500 with 1 Axes>"
            ]
          },
          "metadata": {
            "tags": []
          }
        }
      ]
    },
    {
      "cell_type": "code",
      "metadata": {
        "id": "_2TTwpXMbYPo",
        "colab_type": "code",
        "colab": {
          "base_uri": "https://localhost:8080/",
          "height": 437
        },
        "outputId": "a7b5ad48-3ad2-43a1-ba86-61498e2d648c"
      },
      "source": [
        "s_female = df_train.loc[df_train[\"Sex_female\"] == 1].count()[\"Survived\"]\n",
        "s_male = df_train.loc[df_train[\"Sex_male\"] == 1].count()[\"Survived\"]\n",
        "\n",
        "survived_age = [s_female, s_male]\n",
        "label = ['Women', 'Men']\n",
        "\n",
        "plt.style.use('ggplot')\n",
        "plt.figure(figsize=(8,5), dpi=100)\n",
        "\n",
        "plt.pie(survived_age, labels=label, pctdistance=0.5, autopct='%.2f %%')\n",
        "plt.title(\"Surviving People's Gender\")\n",
        "plt.show()"
      ],
      "execution_count": 261,
      "outputs": [
        {
          "output_type": "display_data",
          "data": {
            "image/png": "[encoded data removed]",
            "text/plain": [
              "<Figure size 800x500 with 1 Axes>"
            ]
          },
          "metadata": {
            "tags": []
          }
        }
      ]
    },
    {
      "cell_type": "markdown",
      "metadata": {
        "id": "BkjSCgG2G_IY",
        "colab_type": "text"
      },
      "source": [
        "# Select dependent & independent variables\n"
      ]
    },
    {
      "cell_type": "code",
      "metadata": {
        "id": "ZErhWYiyG9xv",
        "colab_type": "code",
        "colab": {}
      },
      "source": [
        "X_train = df_train.loc[:, df_train.columns != \"Survived\"]\n",
        "y_train = df_train[\"Survived\"]\n",
        "\n",
        "X_test = df_test.loc[:, df_test.columns != \"PassengerId\"] # I didn't remove it because we need it to submit"
      ],
      "execution_count": 262,
      "outputs": []
    },
    {
      "cell_type": "markdown",
      "metadata": {
        "id": "u2k-GhCpQic8",
        "colab_type": "text"
      },
      "source": [
        "# Feature Scaling"
      ]
    },
    {
      "cell_type": "code",
      "metadata": {
        "id": "m-2GqEsCPeJy",
        "colab_type": "code",
        "colab": {}
      },
      "source": [
        "from sklearn.preprocessing import StandardScaler\n",
        "\n",
        "sc_X = StandardScaler()\n",
        "X_train = sc_X.fit_transform(X_train)\n",
        "X_test = sc_X.transform(X_test)"
      ],
      "execution_count": 263,
      "outputs": []
    },
    {
      "cell_type": "markdown",
      "metadata": {
        "id": "Km4EjEyZeR55",
        "colab_type": "text"
      },
      "source": [
        "# Compare Algorithms"
      ]
    },
    {
      "cell_type": "code",
      "metadata": {
        "id": "rf8fKZRweMwK",
        "colab_type": "code",
        "colab": {
          "base_uri": "https://localhost:8080/",
          "height": 173
        },
        "outputId": "f381b713-cea3-4740-cfc2-7b2e45bdaddd"
      },
      "source": [
        "# Import required libraries for performance metrics\n",
        "from sklearn.metrics import make_scorer\n",
        "from sklearn.metrics import accuracy_score\n",
        "from sklearn.metrics import precision_score\n",
        "from sklearn.metrics import recall_score\n",
        "from sklearn.metrics import f1_score\n",
        "from sklearn.model_selection import cross_validate\n",
        "\n",
        "# Define dictionary with performance metrics\n",
        "scoring = {'accuracy':make_scorer(accuracy_score), \n",
        "           'precision':make_scorer(precision_score),\n",
        "           'recall':make_scorer(recall_score), \n",
        "           'f1_score':make_scorer(f1_score)}\n",
        "\n",
        "# Import required libraries for machine learning classifiers\n",
        "from sklearn.linear_model import LogisticRegression\n",
        "from sklearn.svm import LinearSVC, SVC\n",
        "from sklearn.tree import DecisionTreeClassifier\n",
        "from sklearn.ensemble import RandomForestClassifier, AdaBoostClassifier, GradientBoostingClassifier\n",
        "from sklearn.naive_bayes import GaussianNB\n",
        "from xgboost import XGBClassifier\n",
        "\n",
        "# Instantiate the machine learning classifiers\n",
        "log_model = LogisticRegression(max_iter=10000)\n",
        "svl_model = LinearSVC(dual=False)\n",
        "svc_model = SVC(kernel=\"rbf\", C=0.025, probability=True)\n",
        "dtr_model = DecisionTreeClassifier()\n",
        "rfc_model = RandomForestClassifier()\n",
        "ada_model = AdaBoostClassifier()\n",
        "gbc_model = GradientBoostingClassifier()\n",
        "gnb_model = GaussianNB()\n",
        "xgb_model = XGBClassifier()\n",
        "\n",
        "# Define the models evaluation function\n",
        "def models_evaluation(X, y, folds):\n",
        "    \n",
        "    '''\n",
        "    X : data set features\n",
        "    y : data set target\n",
        "    folds : number of cross-validation folds\n",
        "\n",
        "    '''\n",
        "    \n",
        "    # Perform cross-validation to each machine learning classifier\n",
        "    log = cross_validate(log_model, X, y, cv=folds, scoring=scoring)\n",
        "    svl = cross_validate(svl_model, X, y, cv=folds, scoring=scoring)\n",
        "    svc = cross_validate(svc_model, X, y, cv=folds, scoring=scoring)\n",
        "    dtr = cross_validate(dtr_model, X, y, cv=folds, scoring=scoring)\n",
        "    rfc = cross_validate(rfc_model, X, y, cv=folds, scoring=scoring)\n",
        "    ada = cross_validate(ada_model, X, y, cv=folds, scoring=scoring)\n",
        "    gbc = cross_validate(gbc_model, X, y, cv=folds, scoring=scoring)\n",
        "    gnb = cross_validate(gnb_model, X, y, cv=folds, scoring=scoring)\n",
        "    xgb = cross_validate(xgb_model, X, y, cv=folds, scoring=scoring)\n",
        "\n",
        "    # Create a data frame with the models perfoamnce metrics scores\n",
        "    models_scores_table = pd.DataFrame({'Logistic Regression':[log['test_accuracy'].mean(),\n",
        "                                                               log['test_precision'].mean(),\n",
        "                                                               log['test_recall'].mean(),\n",
        "                                                               log['test_f1_score'].mean()],\n",
        "                                       \n",
        "                                      'SVM Linear Classifier':[svl['test_accuracy'].mean(),\n",
        "                                                               svl['test_precision'].mean(),\n",
        "                                                               svl['test_recall'].mean(),\n",
        "                                                               svl['test_f1_score'].mean()],\n",
        "                                        \n",
        "                                      'SVM Classifier (rbf)':[svc['test_accuracy'].mean(),\n",
        "                                                              svc['test_precision'].mean(),\n",
        "                                                              svc['test_recall'].mean(),\n",
        "                                                              svc['test_f1_score'].mean()],\n",
        "                                       \n",
        "                                      'Decision Tree':[dtr['test_accuracy'].mean(),\n",
        "                                                       dtr['test_precision'].mean(),\n",
        "                                                       dtr['test_recall'].mean(),\n",
        "                                                       dtr['test_f1_score'].mean()],\n",
        "                                       \n",
        "                                      'Random Forest':[rfc['test_accuracy'].mean(),\n",
        "                                                       rfc['test_precision'].mean(),\n",
        "                                                       rfc['test_recall'].mean(),\n",
        "                                                       rfc['test_f1_score'].mean()],\n",
        "                                        \n",
        "                                      'AdaBoost':[ada['test_accuracy'].mean(),\n",
        "                                                  ada['test_precision'].mean(),\n",
        "                                                  ada['test_recall'].mean(),\n",
        "                                                  ada['test_f1_score'].mean()],\n",
        "                                        \n",
        "                                      'Gradient Boosting':[gbc['test_accuracy'].mean(),\n",
        "                                                           gbc['test_precision'].mean(),\n",
        "                                                           gbc['test_recall'].mean(),\n",
        "                                                           gbc['test_f1_score'].mean()],\n",
        "                                       \n",
        "                                      'Gaussian Naive Bayes':[gnb['test_accuracy'].mean(),\n",
        "                                                              gnb['test_precision'].mean(),\n",
        "                                                              gnb['test_recall'].mean(),\n",
        "                                                              gnb['test_f1_score'].mean()],\n",
        "                                       \n",
        "                                      'XGBoost':[xgb['test_accuracy'].mean(),\n",
        "                                                 xgb['test_precision'].mean(),\n",
        "                                                 xgb['test_recall'].mean(),\n",
        "                                                 xgb['test_f1_score'].mean()]},\n",
        "                                      \n",
        "                                      index=['Accuracy', 'Precision', 'Recall', 'F1 Score'])\n",
        "    \n",
        "    # Add 'Best Score' column\n",
        "    models_scores_table['Best Score'] = models_scores_table.idxmax(axis=1)\n",
        "    \n",
        "    # Return models performance metrics scores data frame\n",
        "    return(models_scores_table)\n",
        "  \n",
        "# Run models_evaluation function\n",
        "models_evaluation(X_train, y_train, 5)"
      ],
      "execution_count": 264,
      "outputs": [
        {
          "output_type": "execute_result",
          "data": {
            "text/html": [
              "<div>\n",
              "<style scoped>\n",
              "    .dataframe tbody tr th:only-of-type {\n",
              "        vertical-align: middle;\n",
              "    }\n",
              "\n",
              "    .dataframe tbody tr th {\n",
              "        vertical-align: top;\n",
              "    }\n",
              "\n",
              "    .dataframe thead th {\n",
              "        text-align: right;\n",
              "    }\n",
              "</style>\n",
              "<table border=\"1\" class=\"dataframe\">\n",
              "  <thead>\n",
              "    <tr style=\"text-align: right;\">\n",
              "      <th></th>\n",
              "      <th>Logistic Regression</th>\n",
              "      <th>SVM Linear Classifier</th>\n",
              "      <th>SVM Classifier (rbf)</th>\n",
              "      <th>Decision Tree</th>\n",
              "      <th>Random Forest</th>\n",
              "      <th>AdaBoost</th>\n",
              "      <th>Gradient Boosting</th>\n",
              "      <th>Gaussian Naive Bayes</th>\n",
              "      <th>XGBoost</th>\n",
              "      <th>Best Score</th>\n",
              "    </tr>\n",
              "  </thead>\n",
              "  <tbody>\n",
              "    <tr>\n",
              "      <th>Accuracy</th>\n",
              "      <td>0.785190</td>\n",
              "      <td>0.787431</td>\n",
              "      <td>0.764902</td>\n",
              "      <td>0.771688</td>\n",
              "      <td>0.808805</td>\n",
              "      <td>0.798680</td>\n",
              "      <td>0.825678</td>\n",
              "      <td>0.788542</td>\n",
              "      <td>0.813318</td>\n",
              "      <td>Gradient Boosting</td>\n",
              "    </tr>\n",
              "    <tr>\n",
              "      <th>Precision</th>\n",
              "      <td>0.733982</td>\n",
              "      <td>0.738264</td>\n",
              "      <td>0.815030</td>\n",
              "      <td>0.703654</td>\n",
              "      <td>0.763793</td>\n",
              "      <td>0.745133</td>\n",
              "      <td>0.815864</td>\n",
              "      <td>0.727015</td>\n",
              "      <td>0.791459</td>\n",
              "      <td>Gradient Boosting</td>\n",
              "    </tr>\n",
              "    <tr>\n",
              "      <th>Recall</th>\n",
              "      <td>0.691176</td>\n",
              "      <td>0.688235</td>\n",
              "      <td>0.505882</td>\n",
              "      <td>0.694118</td>\n",
              "      <td>0.723529</td>\n",
              "      <td>0.723529</td>\n",
              "      <td>0.702941</td>\n",
              "      <td>0.720588</td>\n",
              "      <td>0.694118</td>\n",
              "      <td>Random Forest</td>\n",
              "    </tr>\n",
              "    <tr>\n",
              "      <th>F1 Score</th>\n",
              "      <td>0.710895</td>\n",
              "      <td>0.711870</td>\n",
              "      <td>0.622022</td>\n",
              "      <td>0.697862</td>\n",
              "      <td>0.742019</td>\n",
              "      <td>0.733184</td>\n",
              "      <td>0.753739</td>\n",
              "      <td>0.722786</td>\n",
              "      <td>0.738721</td>\n",
              "      <td>Gradient Boosting</td>\n",
              "    </tr>\n",
              "  </tbody>\n",
              "</table>\n",
              "</div>"
            ],
            "text/plain": [
              "           Logistic Regression  ...         Best Score\n",
              "Accuracy              0.785190  ...  Gradient Boosting\n",
              "Precision             0.733982  ...  Gradient Boosting\n",
              "Recall                0.691176  ...      Random Forest\n",
              "F1 Score              0.710895  ...  Gradient Boosting\n",
              "\n",
              "[4 rows x 10 columns]"
            ]
          },
          "metadata": {
            "tags": []
          },
          "execution_count": 264
        }
      ]
    },
    {
      "cell_type": "markdown",
      "metadata": {
        "id": "P1kuJ4loZuvE",
        "colab_type": "text"
      },
      "source": [
        "# Train with Best Model"
      ]
    },
    {
      "cell_type": "code",
      "metadata": {
        "id": "T6qK5nCWT-8i",
        "colab_type": "code",
        "colab": {}
      },
      "source": [
        "from sklearn.ensemble import GradientBoostingClassifier\n",
        "\n",
        "model = GradientBoostingClassifier()\n",
        "model.fit(X_train, y_train)\n",
        "y_pred = model.predict(X_test)"
      ],
      "execution_count": 265,
      "outputs": []
    },
    {
      "cell_type": "markdown",
      "metadata": {
        "id": "e2cXWRErX2UM",
        "colab_type": "text"
      },
      "source": [
        "# Submission"
      ]
    },
    {
      "cell_type": "code",
      "metadata": {
        "id": "FsiZUbUzX4Op",
        "colab_type": "code",
        "colab": {}
      },
      "source": [
        "submission = pd.DataFrame({\n",
        "        \"PassengerId\": df_test[\"PassengerId\"],\n",
        "        \"Survived\": y_pred\n",
        "    })\n",
        "\n",
        "submission.to_csv('submission.csv', index=False)"
      ],
      "execution_count": 266,
      "outputs": []
    }
  ]
}